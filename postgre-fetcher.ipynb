{
 "cells": [
  {
   "cell_type": "code",
   "execution_count": null,
   "outputs": [],
   "source": [
    "\n",
    "import psycopg2\n",
    "import pandas as pd\n",
    "\n",
    "\n",
    "conn = psycopg2.connect(\n",
    "    host=\"localhost\",\n",
    "    database=\"dvdrental\",\n",
    "    user=\"postgres\",\n",
    "    password=\"pass\",\n",
    ")\n",
    "\n",
    "\n",
    "try:\n",
    "    cur = conn.cursor()\n",
    "    cur.execute(\"SELECT * FROM country;\")\n",
    "    rows = cur.fetchall()\n",
    "    df = pd.DataFrame(rows, columns=[desc[0] for desc in cur.description])\n",
    "except Exception as e:\n",
    "    print(\"Transaction failed: \", e)\n",
    "    conn.rollback()\n",
    "finally:\n",
    "    # cursor.close()\n",
    "    conn.close()\n",
    "\n",
    "df"
   ],
   "metadata": {
    "collapsed": false,
    "ExecuteTime": {
     "start_time": "2023-04-10T04:52:42.653746Z",
     "end_time": "2023-04-10T04:52:42.747083Z"
    }
   }
  },
  {
   "cell_type": "code",
   "execution_count": null,
   "outputs": [],
   "source": [],
   "metadata": {
    "collapsed": false
   }
  }
 ],
 "metadata": {
  "kernelspec": {
   "display_name": "Python 3",
   "language": "python",
   "name": "python3"
  },
  "language_info": {
   "codemirror_mode": {
    "name": "ipython",
    "version": 2
   },
   "file_extension": ".py",
   "mimetype": "text/x-python",
   "name": "python",
   "nbconvert_exporter": "python",
   "pygments_lexer": "ipython2",
   "version": "2.7.6"
  }
 },
 "nbformat": 4,
 "nbformat_minor": 0
}
