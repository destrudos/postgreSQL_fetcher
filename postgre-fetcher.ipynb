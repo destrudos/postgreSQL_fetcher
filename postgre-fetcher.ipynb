{
 "cells": [
  {
   "cell_type": "code",
   "execution_count": 27,
   "outputs": [
    {
     "data": {
      "text/plain": "     country_id               country         last_update\n0             1           Afghanistan 2006-02-15 09:44:00\n1             2               Algeria 2006-02-15 09:44:00\n2             3        American Samoa 2006-02-15 09:44:00\n3             4                Angola 2006-02-15 09:44:00\n4             5              Anguilla 2006-02-15 09:44:00\n..          ...                   ...                 ...\n104         105               Vietnam 2006-02-15 09:44:00\n105         106  Virgin Islands, U.S. 2006-02-15 09:44:00\n106         107                 Yemen 2006-02-15 09:44:00\n107         108            Yugoslavia 2006-02-15 09:44:00\n108         109                Zambia 2006-02-15 09:44:00\n\n[109 rows x 3 columns]",
      "text/html": "<div>\n<style scoped>\n    .dataframe tbody tr th:only-of-type {\n        vertical-align: middle;\n    }\n\n    .dataframe tbody tr th {\n        vertical-align: top;\n    }\n\n    .dataframe thead th {\n        text-align: right;\n    }\n</style>\n<table border=\"1\" class=\"dataframe\">\n  <thead>\n    <tr style=\"text-align: right;\">\n      <th></th>\n      <th>country_id</th>\n      <th>country</th>\n      <th>last_update</th>\n    </tr>\n  </thead>\n  <tbody>\n    <tr>\n      <th>0</th>\n      <td>1</td>\n      <td>Afghanistan</td>\n      <td>2006-02-15 09:44:00</td>\n    </tr>\n    <tr>\n      <th>1</th>\n      <td>2</td>\n      <td>Algeria</td>\n      <td>2006-02-15 09:44:00</td>\n    </tr>\n    <tr>\n      <th>2</th>\n      <td>3</td>\n      <td>American Samoa</td>\n      <td>2006-02-15 09:44:00</td>\n    </tr>\n    <tr>\n      <th>3</th>\n      <td>4</td>\n      <td>Angola</td>\n      <td>2006-02-15 09:44:00</td>\n    </tr>\n    <tr>\n      <th>4</th>\n      <td>5</td>\n      <td>Anguilla</td>\n      <td>2006-02-15 09:44:00</td>\n    </tr>\n    <tr>\n      <th>...</th>\n      <td>...</td>\n      <td>...</td>\n      <td>...</td>\n    </tr>\n    <tr>\n      <th>104</th>\n      <td>105</td>\n      <td>Vietnam</td>\n      <td>2006-02-15 09:44:00</td>\n    </tr>\n    <tr>\n      <th>105</th>\n      <td>106</td>\n      <td>Virgin Islands, U.S.</td>\n      <td>2006-02-15 09:44:00</td>\n    </tr>\n    <tr>\n      <th>106</th>\n      <td>107</td>\n      <td>Yemen</td>\n      <td>2006-02-15 09:44:00</td>\n    </tr>\n    <tr>\n      <th>107</th>\n      <td>108</td>\n      <td>Yugoslavia</td>\n      <td>2006-02-15 09:44:00</td>\n    </tr>\n    <tr>\n      <th>108</th>\n      <td>109</td>\n      <td>Zambia</td>\n      <td>2006-02-15 09:44:00</td>\n    </tr>\n  </tbody>\n</table>\n<p>109 rows × 3 columns</p>\n</div>"
     },
     "execution_count": 27,
     "metadata": {},
     "output_type": "execute_result"
    }
   ],
   "source": [
    "\n",
    "import psycopg2\n",
    "import pandas as pd\n",
    "\n",
    "\n",
    "conn = psycopg2.connect(\n",
    "    host=\"localhost\",\n",
    "    database=\"dvdrental\",\n",
    "    user=\"postgres\",\n",
    "    password=\"klopik15\",\n",
    ")\n",
    "\n",
    "\n",
    "try:\n",
    "    cur = conn.cursor()\n",
    "    cur.execute(\"SELECT * FROM country;\")\n",
    "    rows = cur.fetchall()\n",
    "    df = pd.DataFrame(rows, columns=[desc[0] for desc in cur.description])\n",
    "except Exception as e:\n",
    "    print(\"Transaction failed: \", e)\n",
    "    conn.rollback()\n",
    "finally:\n",
    "    # cursor.close()\n",
    "    conn.close()\n",
    "\n",
    "df"
   ],
   "metadata": {
    "collapsed": false,
    "ExecuteTime": {
     "start_time": "2023-04-10T04:52:42.653746Z",
     "end_time": "2023-04-10T04:52:42.747083Z"
    }
   }
  },
  {
   "cell_type": "code",
   "execution_count": null,
   "outputs": [],
   "source": [],
   "metadata": {
    "collapsed": false
   }
  }
 ],
 "metadata": {
  "kernelspec": {
   "display_name": "Python 3",
   "language": "python",
   "name": "python3"
  },
  "language_info": {
   "codemirror_mode": {
    "name": "ipython",
    "version": 2
   },
   "file_extension": ".py",
   "mimetype": "text/x-python",
   "name": "python",
   "nbconvert_exporter": "python",
   "pygments_lexer": "ipython2",
   "version": "2.7.6"
  }
 },
 "nbformat": 4,
 "nbformat_minor": 0
}
